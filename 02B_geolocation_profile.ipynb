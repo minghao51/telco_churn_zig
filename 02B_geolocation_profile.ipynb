{
 "cells": [
  {
   "cell_type": "code",
   "execution_count": null,
   "metadata": {},
   "outputs": [],
   "source": [
    "# hide\n",
    "# default_exp L2B_geo_model_explore\n",
    "# from nbdev.showdoc import *"
   ]
  },
  {
   "cell_type": "markdown",
   "metadata": {},
   "source": [
    "# 02 geolocation churn \n",
    "\n",
    "> Combining data on geo location level, given that the current calculation is done on planning_area (far too few points), I will just be doing visualisation with powerBI."
   ]
  },
  {
   "cell_type": "markdown",
   "metadata": {},
   "source": [
    "## Library"
   ]
  },
  {
   "cell_type": "code",
   "execution_count": null,
   "metadata": {},
   "outputs": [],
   "source": [
    "# Library\n",
    "#exports\n",
    "import pandas as pd\n",
    "import numpy as np\n",
    "import os\n",
    "from zipfile import ZipFile\n",
    "from scipy import spatial\n",
    "import matplotlib.pyplot as plt\n",
    "\n",
    "from tsfresh import extract_features\n",
    "from tsfresh.feature_selection.relevance import calculate_relevance_table\n",
    "import tsfresh"
   ]
  },
  {
   "cell_type": "code",
   "execution_count": null,
   "metadata": {},
   "outputs": [],
   "source": [
    "#exports\n",
    "from sklearn.cluster import AgglomerativeClustering\n",
    "from sklearn.ensemble import ExtraTreesClassifier, ExtraTreesRegressor, RandomForestClassifier\n",
    "from sklearn.model_selection import train_test_split, GridSearchCV\n",
    "from sklearn.inspection import plot_partial_dependence\n",
    "from sklearn.impute import SimpleImputer\n",
    "\n",
    "imp_mean = SimpleImputer(missing_values=np.nan, strategy='mean')\n",
    "imp_med = SimpleImputer(missing_values=np.nan, strategy='median')\n",
    "\n",
    "from sklearn.preprocessing import OneHotEncoder\n",
    "from sklearn.metrics import balanced_accuracy_score, accuracy_score, classification_report\n",
    "from sklearn.inspection import permutation_importance\n",
    "\n",
    "from collections import defaultdict"
   ]
  },
  {
   "cell_type": "markdown",
   "metadata": {},
   "source": [
    "## Functions"
   ]
  },
  {
   "cell_type": "code",
   "execution_count": null,
   "metadata": {},
   "outputs": [],
   "source": [
    "#exports\n",
    "def read_tsv(file:str)->pd.DataFrame:\n",
    "    return pd.read_csv(file,  compression='gzip', sep='\\t')\n",
    "\n",
    "def gzip_reading(gzip_file)->dict:\n",
    "    'Read all tsv.gz files in the zip file and returning a dictionary (key:filename, value:data)'\n",
    "    archive = ZipFile(gzip_file, 'r')\n",
    "    files = {name: archive.open(name) for name in archive.namelist() if\n",
    "     (name.endswith('.gz') and not name.startswith('_'))}\n",
    "    files_names = [i.split('.')[0] for i in files.keys()]\n",
    "    \n",
    "    # reading the designated files into dict\n",
    "    dt = {}\n",
    "    for name, key in zip(files_names, files.keys()):\n",
    "        dt[name] = read_tsv(files[key])\n",
    "    return dt\n",
    "\n",
    "def load_directory_files_dict(dir_path)->dict:\n",
    "    'Load all pkl files in the directory into dict'\n",
    "    L1file_list = os.listdir(path_load)\n",
    "    L1file_list = [i for i in L1file_list if not i.startswith(\".\")]\n",
    "    L1name_list = [i.split(\"_\")[0]+\"_\"+i.split(\"_\")[1].replace(\".pkl\",\"\") for i in L1file_list]\n",
    "\n",
    "    dt = {}\n",
    "    for name, key in zip(L1file_list, L1name_list):\n",
    "        dt[key] = pd.read_pickle(os.path.join(path_load,name))\n",
    "    return dt\n"
   ]
  },
  {
   "cell_type": "markdown",
   "metadata": {},
   "source": [
    "## Data"
   ]
  },
  {
   "cell_type": "code",
   "execution_count": null,
   "metadata": {},
   "outputs": [],
   "source": [
    "# data\n",
    "path_load = os.path.join(\"Data\",\"L1\")\n",
    "path_save = os.path.join(\"Data\",\"L2\")\n",
    "\n",
    "dt = load_directory_files_dict(path_load)\n",
    "raw = gzip_reading('telco_demo_datasets.zip')"
   ]
  },
  {
   "cell_type": "markdown",
   "metadata": {},
   "source": [
    "## geo profile"
   ]
  },
  {
   "cell_type": "code",
   "execution_count": null,
   "metadata": {},
   "outputs": [],
   "source": [
    "geo_train = dt['geo_train']\n",
    "geo_loc = (dt['geo_location']\n",
    "           .groupby('planning_area', as_index=False)\n",
    "           .size()\n",
    "           .rename({'size':'visits'}, axis=1)\n",
    "          )\n",
    "geo_census = dt['geo_census']\n",
    "geo_school = dt['geo_school']\n",
    "geo_coor = dt['geo_coor']"
   ]
  },
  {
   "cell_type": "code",
   "execution_count": null,
   "metadata": {},
   "outputs": [
    {
     "data": {
      "text/html": [
       "<div>\n",
       "<style scoped>\n",
       "    .dataframe tbody tr th:only-of-type {\n",
       "        vertical-align: middle;\n",
       "    }\n",
       "\n",
       "    .dataframe tbody tr th {\n",
       "        vertical-align: top;\n",
       "    }\n",
       "\n",
       "    .dataframe thead th {\n",
       "        text-align: right;\n",
       "    }\n",
       "</style>\n",
       "<table border=\"1\" class=\"dataframe\">\n",
       "  <thead>\n",
       "    <tr style=\"text-align: right;\">\n",
       "      <th></th>\n",
       "      <th>planning_area</th>\n",
       "      <th>age</th>\n",
       "      <th>contract</th>\n",
       "      <th>internet_service</th>\n",
       "      <th>account_start_year</th>\n",
       "      <th>month_delta</th>\n",
       "      <th>churn</th>\n",
       "      <th>lat</th>\n",
       "      <th>lng</th>\n",
       "      <th>users_nb</th>\n",
       "      <th>visits</th>\n",
       "      <th>med_income</th>\n",
       "      <th>avg_income</th>\n",
       "      <th>gini_coef</th>\n",
       "      <th>pop</th>\n",
       "      <th>working_pop</th>\n",
       "      <th>number_school</th>\n",
       "      <th>integrated_schools</th>\n",
       "      <th>primary_schools</th>\n",
       "      <th>secondary_schools</th>\n",
       "    </tr>\n",
       "  </thead>\n",
       "  <tbody>\n",
       "    <tr>\n",
       "      <th>0</th>\n",
       "      <td>ANG MO KIO</td>\n",
       "      <td>38.967391</td>\n",
       "      <td>0.531621</td>\n",
       "      <td>0.443676</td>\n",
       "      <td>2014.265810</td>\n",
       "      <td>65.870553</td>\n",
       "      <td>0.093874</td>\n",
       "      <td>1.371236</td>\n",
       "      <td>103.847778</td>\n",
       "      <td>1012</td>\n",
       "      <td>373</td>\n",
       "      <td>2500</td>\n",
       "      <td>5254.007202</td>\n",
       "      <td>0.427458</td>\n",
       "      <td>59705</td>\n",
       "      <td>51238</td>\n",
       "      <td>17</td>\n",
       "      <td>1.0</td>\n",
       "      <td>8.0</td>\n",
       "      <td>8.0</td>\n",
       "    </tr>\n",
       "    <tr>\n",
       "      <th>1</th>\n",
       "      <td>BEDOK</td>\n",
       "      <td>39.557133</td>\n",
       "      <td>0.555105</td>\n",
       "      <td>0.465855</td>\n",
       "      <td>2014.260987</td>\n",
       "      <td>65.876944</td>\n",
       "      <td>0.077755</td>\n",
       "      <td>1.331222</td>\n",
       "      <td>103.928134</td>\n",
       "      <td>1479</td>\n",
       "      <td>575</td>\n",
       "      <td>2500</td>\n",
       "      <td>6066.907469</td>\n",
       "      <td>0.383530</td>\n",
       "      <td>91224</td>\n",
       "      <td>80081</td>\n",
       "      <td>24</td>\n",
       "      <td>1.0</td>\n",
       "      <td>12.0</td>\n",
       "      <td>11.0</td>\n",
       "    </tr>\n",
       "    <tr>\n",
       "      <th>2</th>\n",
       "      <td>BISHAN</td>\n",
       "      <td>38.417323</td>\n",
       "      <td>0.511811</td>\n",
       "      <td>0.527559</td>\n",
       "      <td>2014.070866</td>\n",
       "      <td>67.992126</td>\n",
       "      <td>0.196850</td>\n",
       "      <td>1.355431</td>\n",
       "      <td>103.839107</td>\n",
       "      <td>127</td>\n",
       "      <td>406</td>\n",
       "      <td>3500</td>\n",
       "      <td>7303.412733</td>\n",
       "      <td>0.302858</td>\n",
       "      <td>27457</td>\n",
       "      <td>24602</td>\n",
       "      <td>15</td>\n",
       "      <td>3.0</td>\n",
       "      <td>4.0</td>\n",
       "      <td>8.0</td>\n",
       "    </tr>\n",
       "    <tr>\n",
       "      <th>3</th>\n",
       "      <td>BUKIT BATOK</td>\n",
       "      <td>40.536050</td>\n",
       "      <td>0.530564</td>\n",
       "      <td>0.472571</td>\n",
       "      <td>2014.325235</td>\n",
       "      <td>65.303292</td>\n",
       "      <td>0.063480</td>\n",
       "      <td>1.351252</td>\n",
       "      <td>103.750406</td>\n",
       "      <td>1276</td>\n",
       "      <td>146</td>\n",
       "      <td>3500</td>\n",
       "      <td>6627.432987</td>\n",
       "      <td>0.328079</td>\n",
       "      <td>44133</td>\n",
       "      <td>40681</td>\n",
       "      <td>11</td>\n",
       "      <td>0.0</td>\n",
       "      <td>6.0</td>\n",
       "      <td>5.0</td>\n",
       "    </tr>\n",
       "    <tr>\n",
       "      <th>4</th>\n",
       "      <td>BUKIT MERAH</td>\n",
       "      <td>39.228438</td>\n",
       "      <td>0.543124</td>\n",
       "      <td>0.510490</td>\n",
       "      <td>2014.235431</td>\n",
       "      <td>66.386946</td>\n",
       "      <td>0.118881</td>\n",
       "      <td>1.279427</td>\n",
       "      <td>103.822536</td>\n",
       "      <td>429</td>\n",
       "      <td>4404</td>\n",
       "      <td>1500</td>\n",
       "      <td>4930.564294</td>\n",
       "      <td>0.469347</td>\n",
       "      <td>55627</td>\n",
       "      <td>45316</td>\n",
       "      <td>13</td>\n",
       "      <td>0.0</td>\n",
       "      <td>8.0</td>\n",
       "      <td>5.0</td>\n",
       "    </tr>\n",
       "  </tbody>\n",
       "</table>\n",
       "</div>"
      ],
      "text/plain": [
       "  planning_area        age  contract  internet_service  account_start_year  \\\n",
       "0    ANG MO KIO  38.967391  0.531621          0.443676         2014.265810   \n",
       "1         BEDOK  39.557133  0.555105          0.465855         2014.260987   \n",
       "2        BISHAN  38.417323  0.511811          0.527559         2014.070866   \n",
       "3   BUKIT BATOK  40.536050  0.530564          0.472571         2014.325235   \n",
       "4   BUKIT MERAH  39.228438  0.543124          0.510490         2014.235431   \n",
       "\n",
       "   month_delta     churn       lat         lng  users_nb  visits  med_income  \\\n",
       "0    65.870553  0.093874  1.371236  103.847778      1012     373        2500   \n",
       "1    65.876944  0.077755  1.331222  103.928134      1479     575        2500   \n",
       "2    67.992126  0.196850  1.355431  103.839107       127     406        3500   \n",
       "3    65.303292  0.063480  1.351252  103.750406      1276     146        3500   \n",
       "4    66.386946  0.118881  1.279427  103.822536       429    4404        1500   \n",
       "\n",
       "    avg_income  gini_coef    pop  working_pop  number_school  \\\n",
       "0  5254.007202   0.427458  59705        51238             17   \n",
       "1  6066.907469   0.383530  91224        80081             24   \n",
       "2  7303.412733   0.302858  27457        24602             15   \n",
       "3  6627.432987   0.328079  44133        40681             11   \n",
       "4  4930.564294   0.469347  55627        45316             13   \n",
       "\n",
       "   integrated_schools  primary_schools  secondary_schools  \n",
       "0                 1.0              8.0                8.0  \n",
       "1                 1.0             12.0               11.0  \n",
       "2                 3.0              4.0                8.0  \n",
       "3                 0.0              6.0                5.0  \n",
       "4                 0.0              8.0                5.0  "
      ]
     },
     "execution_count": null,
     "metadata": {},
     "output_type": "execute_result"
    }
   ],
   "source": [
    "# combining data\n",
    "geo_dt = (geo_train\n",
    "          .merge(geo_coor)\n",
    "          .merge(geo_loc)\n",
    "          .merge(geo_census)\n",
    "          .merge(geo_school)\n",
    ")\n",
    "\n",
    "# print data\n",
    "geo_dt.head()"
   ]
  },
  {
   "cell_type": "code",
   "execution_count": null,
   "metadata": {},
   "outputs": [
    {
     "data": {
      "text/plain": [
       "(21, 20)"
      ]
     },
     "execution_count": null,
     "metadata": {},
     "output_type": "execute_result"
    }
   ],
   "source": [
    "geo_dt.shape"
   ]
  },
  {
   "cell_type": "markdown",
   "metadata": {},
   "source": [
    "With only 21 records and 20 features... I should have perhaps calculate it on finer lat, lon instaed of planning area..."
   ]
  },
  {
   "cell_type": "markdown",
   "metadata": {},
   "source": [
    "### output"
   ]
  },
  {
   "cell_type": "code",
   "execution_count": null,
   "metadata": {},
   "outputs": [],
   "source": [
    "geo_dt.to_pickle(os.path.join(path_save, \"geo_profile.pkl\"))\n",
    "geo_dt.to_csv(os.path.join(path_save, \"geo_profile.csv\"))"
   ]
  },
  {
   "cell_type": "markdown",
   "metadata": {},
   "source": [
    "## geo visit Location\n",
    "clustering on locations visited for users\n",
    "- hclust on lat,lon with 60 clusters\n",
    "- calculate the mean churn % within clusters"
   ]
  },
  {
   "cell_type": "code",
   "execution_count": null,
   "metadata": {},
   "outputs": [
    {
     "data": {
      "text/html": [
       "<div>\n",
       "<style scoped>\n",
       "    .dataframe tbody tr th:only-of-type {\n",
       "        vertical-align: middle;\n",
       "    }\n",
       "\n",
       "    .dataframe tbody tr th {\n",
       "        vertical-align: top;\n",
       "    }\n",
       "\n",
       "    .dataframe thead th {\n",
       "        text-align: right;\n",
       "    }\n",
       "</style>\n",
       "<table border=\"1\" class=\"dataframe\">\n",
       "  <thead>\n",
       "    <tr style=\"text-align: right;\">\n",
       "      <th></th>\n",
       "      <th>latitude</th>\n",
       "      <th>longitude</th>\n",
       "      <th>msisdn</th>\n",
       "      <th>churn</th>\n",
       "    </tr>\n",
       "  </thead>\n",
       "  <tbody>\n",
       "    <tr>\n",
       "      <th>0</th>\n",
       "      <td>1.326087</td>\n",
       "      <td>103.898460</td>\n",
       "      <td>6048764759382</td>\n",
       "      <td>0</td>\n",
       "    </tr>\n",
       "    <tr>\n",
       "      <th>1</th>\n",
       "      <td>1.292531</td>\n",
       "      <td>103.825648</td>\n",
       "      <td>6048764759382</td>\n",
       "      <td>0</td>\n",
       "    </tr>\n",
       "    <tr>\n",
       "      <th>2</th>\n",
       "      <td>1.301823</td>\n",
       "      <td>103.904991</td>\n",
       "      <td>1948924115781</td>\n",
       "      <td>0</td>\n",
       "    </tr>\n",
       "    <tr>\n",
       "      <th>3</th>\n",
       "      <td>1.301866</td>\n",
       "      <td>103.837118</td>\n",
       "      <td>1948924115781</td>\n",
       "      <td>0</td>\n",
       "    </tr>\n",
       "    <tr>\n",
       "      <th>4</th>\n",
       "      <td>1.301894</td>\n",
       "      <td>103.904761</td>\n",
       "      <td>5938778408016</td>\n",
       "      <td>0</td>\n",
       "    </tr>\n",
       "  </tbody>\n",
       "</table>\n",
       "</div>"
      ],
      "text/plain": [
       "   latitude   longitude         msisdn  churn\n",
       "0  1.326087  103.898460  6048764759382      0\n",
       "1  1.292531  103.825648  6048764759382      0\n",
       "2  1.301823  103.904991  1948924115781      0\n",
       "3  1.301866  103.837118  1948924115781      0\n",
       "4  1.301894  103.904761  5938778408016      0"
      ]
     },
     "execution_count": null,
     "metadata": {},
     "output_type": "execute_result"
    }
   ],
   "source": [
    "X_cluster_dt = raw['telco_locations'][['latitude','longitude','msisdn']].merge(dt['user_train'][['msisdn','churn']])\n",
    "X_cluster_dt.head()"
   ]
  },
  {
   "cell_type": "code",
   "execution_count": null,
   "metadata": {},
   "outputs": [
    {
     "data": {
      "text/html": [
       "<div>\n",
       "<style scoped>\n",
       "    .dataframe tbody tr th:only-of-type {\n",
       "        vertical-align: middle;\n",
       "    }\n",
       "\n",
       "    .dataframe tbody tr th {\n",
       "        vertical-align: top;\n",
       "    }\n",
       "\n",
       "    .dataframe thead th {\n",
       "        text-align: right;\n",
       "    }\n",
       "</style>\n",
       "<table border=\"1\" class=\"dataframe\">\n",
       "  <thead>\n",
       "    <tr style=\"text-align: right;\">\n",
       "      <th></th>\n",
       "      <th>cluster</th>\n",
       "      <th>latitude</th>\n",
       "      <th>longitude</th>\n",
       "      <th>churn</th>\n",
       "    </tr>\n",
       "  </thead>\n",
       "  <tbody>\n",
       "    <tr>\n",
       "      <th>0</th>\n",
       "      <td>0</td>\n",
       "      <td>1.280635</td>\n",
       "      <td>103.848045</td>\n",
       "      <td>0.116236</td>\n",
       "    </tr>\n",
       "    <tr>\n",
       "      <th>1</th>\n",
       "      <td>1</td>\n",
       "      <td>1.326771</td>\n",
       "      <td>103.846719</td>\n",
       "      <td>0.102916</td>\n",
       "    </tr>\n",
       "    <tr>\n",
       "      <th>2</th>\n",
       "      <td>2</td>\n",
       "      <td>1.307370</td>\n",
       "      <td>103.789107</td>\n",
       "      <td>0.128079</td>\n",
       "    </tr>\n",
       "    <tr>\n",
       "      <th>3</th>\n",
       "      <td>3</td>\n",
       "      <td>1.360945</td>\n",
       "      <td>103.893404</td>\n",
       "      <td>0.103226</td>\n",
       "    </tr>\n",
       "    <tr>\n",
       "      <th>4</th>\n",
       "      <td>4</td>\n",
       "      <td>1.293947</td>\n",
       "      <td>103.784791</td>\n",
       "      <td>0.135472</td>\n",
       "    </tr>\n",
       "  </tbody>\n",
       "</table>\n",
       "</div>"
      ],
      "text/plain": [
       "   cluster  latitude   longitude     churn\n",
       "0        0  1.280635  103.848045  0.116236\n",
       "1        1  1.326771  103.846719  0.102916\n",
       "2        2  1.307370  103.789107  0.128079\n",
       "3        3  1.360945  103.893404  0.103226\n",
       "4        4  1.293947  103.784791  0.135472"
      ]
     },
     "execution_count": null,
     "metadata": {},
     "output_type": "execute_result"
    }
   ],
   "source": [
    "cluster = AgglomerativeClustering(n_clusters=60, affinity='euclidean', linkage='ward')\n",
    "cluster.fit_predict(X_cluster_dt[['latitude','longitude']])\n",
    "\n",
    "X_cluster_dt['cluster'] = cluster.labels_\n",
    "X_cluster_dt['churn'] = X_cluster_dt.churn\n",
    "\n",
    "X_cluster_agg_dt = X_cluster_dt.groupby('cluster', as_index=False).agg({'latitude':'median','longitude':'median','churn':'mean'})\n",
    "X_cluster_agg_dt.head()"
   ]
  },
  {
   "cell_type": "markdown",
   "metadata": {},
   "source": [
    "### output"
   ]
  },
  {
   "cell_type": "code",
   "execution_count": null,
   "metadata": {},
   "outputs": [],
   "source": [
    "X_cluster_agg_dt.to_pickle(os.path.join(path_save, \"geo_visit.pkl\"))\n",
    "X_cluster_agg_dt.to_csv(os.path.join(path_save, \"geo_visit.csv\"))"
   ]
  },
  {
   "cell_type": "code",
   "execution_count": null,
   "metadata": {},
   "outputs": [],
   "source": [
    "# plt.scatter(X['latitude'],X['longitude'], c=cluster.labels_, cmap='rainbow')"
   ]
  }
 ],
 "metadata": {
  "kernelspec": {
   "display_name": "Python [conda env:zig] *",
   "language": "python",
   "name": "conda-env-zig-py"
  }
 },
 "nbformat": 4,
 "nbformat_minor": 4
}
