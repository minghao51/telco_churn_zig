{
 "cells": [
  {
   "cell_type": "code",
   "execution_count": null,
   "metadata": {},
   "outputs": [],
   "source": [
    "# hide\n",
    "# default_exp L0_exploration.py\n",
    "# from nbdev.showdoc import *"
   ]
  },
  {
   "cell_type": "markdown",
   "metadata": {},
   "source": [
    "# 00 eploration\n",
    "\n",
    "> exploration on raw data"
   ]
  },
  {
   "cell_type": "code",
   "execution_count": null,
   "metadata": {},
   "outputs": [],
   "source": [
    "#exports\n",
    "# Library\n",
    "import pandas as pd\n",
    "from zipfile import ZipFile\n",
    "from scipy import spatial\n",
    "import os"
   ]
  },
  {
   "cell_type": "code",
   "execution_count": null,
   "metadata": {},
   "outputs": [],
   "source": [
    "#exports\n",
    "# Functions\n",
    "def read_tsv(file):\n",
    "    return pd.read_csv(file,  compression='gzip', sep='\\t')\n",
    "\n",
    "def gzip_reading(gzip_file):\n",
    "    archive = ZipFile(gzip_file, 'r')\n",
    "    files = {name: archive.open(name) for name in archive.namelist() if\n",
    "     (name.endswith('.gz') and not name.startswith('_'))}\n",
    "    files_names = [i.split('.')[0] for i in files.keys()]\n",
    "\n",
    "    dt={}\n",
    "    for name, key in zip(files_names, files.keys()):\n",
    "        dt[name]=read_tsv(files[key])\n",
    "\n",
    "    return dt"
   ]
  },
  {
   "cell_type": "markdown",
   "metadata": {},
   "source": [
    "# Data"
   ]
  },
  {
   "cell_type": "code",
   "execution_count": null,
   "metadata": {},
   "outputs": [],
   "source": [
    "# hide\n",
    "# dt = gzip_reading(os.path.join('Data','L0','telco_demo_datasets.zip'))\n",
    "\n",
    "dt = gzip_reading(os.path.join('Data','L0','telco_demo_datasets.zip'))"
   ]
  },
  {
   "cell_type": "markdown",
   "metadata": {},
   "source": [
    "## telco_cdr\n",
    "Monthly aggregates of call data records per customer.\n"
   ]
  },
  {
   "cell_type": "code",
   "execution_count": null,
   "metadata": {},
   "outputs": [
    {
     "data": {
      "text/html": [
       "<div>\n",
       "<style scoped>\n",
       "    .dataframe tbody tr th:only-of-type {\n",
       "        vertical-align: middle;\n",
       "    }\n",
       "\n",
       "    .dataframe tbody tr th {\n",
       "        vertical-align: top;\n",
       "    }\n",
       "\n",
       "    .dataframe thead th {\n",
       "        text-align: right;\n",
       "    }\n",
       "</style>\n",
       "<table border=\"1\" class=\"dataframe\">\n",
       "  <thead>\n",
       "    <tr style=\"text-align: right;\">\n",
       "      <th></th>\n",
       "      <th>msisdn</th>\n",
       "      <th>date</th>\n",
       "      <th>voice_incoming</th>\n",
       "      <th>voice_outgoing</th>\n",
       "      <th>sms_incoming</th>\n",
       "      <th>sms_outgoing</th>\n",
       "      <th>data_upload</th>\n",
       "      <th>data_download</th>\n",
       "    </tr>\n",
       "  </thead>\n",
       "  <tbody>\n",
       "    <tr>\n",
       "      <th>0</th>\n",
       "      <td>6048764759382</td>\n",
       "      <td>2019-10-31</td>\n",
       "      <td>35</td>\n",
       "      <td>16</td>\n",
       "      <td>99</td>\n",
       "      <td>19</td>\n",
       "      <td>741</td>\n",
       "      <td>2503</td>\n",
       "    </tr>\n",
       "    <tr>\n",
       "      <th>1</th>\n",
       "      <td>1948924115781</td>\n",
       "      <td>2019-10-31</td>\n",
       "      <td>51</td>\n",
       "      <td>20</td>\n",
       "      <td>157</td>\n",
       "      <td>20</td>\n",
       "      <td>1134</td>\n",
       "      <td>1801</td>\n",
       "    </tr>\n",
       "    <tr>\n",
       "      <th>2</th>\n",
       "      <td>5938778408016</td>\n",
       "      <td>2019-10-31</td>\n",
       "      <td>59</td>\n",
       "      <td>21</td>\n",
       "      <td>116</td>\n",
       "      <td>127</td>\n",
       "      <td>742</td>\n",
       "      <td>3068</td>\n",
       "    </tr>\n",
       "    <tr>\n",
       "      <th>3</th>\n",
       "      <td>975351393328</td>\n",
       "      <td>2019-10-31</td>\n",
       "      <td>50</td>\n",
       "      <td>29</td>\n",
       "      <td>135</td>\n",
       "      <td>42</td>\n",
       "      <td>1292</td>\n",
       "      <td>1493</td>\n",
       "    </tr>\n",
       "    <tr>\n",
       "      <th>4</th>\n",
       "      <td>1587148418583</td>\n",
       "      <td>2019-10-31</td>\n",
       "      <td>34</td>\n",
       "      <td>22</td>\n",
       "      <td>135</td>\n",
       "      <td>91</td>\n",
       "      <td>747</td>\n",
       "      <td>2191</td>\n",
       "    </tr>\n",
       "  </tbody>\n",
       "</table>\n",
       "</div>"
      ],
      "text/plain": [
       "          msisdn        date  voice_incoming  voice_outgoing  sms_incoming  \\\n",
       "0  6048764759382  2019-10-31              35              16            99   \n",
       "1  1948924115781  2019-10-31              51              20           157   \n",
       "2  5938778408016  2019-10-31              59              21           116   \n",
       "3   975351393328  2019-10-31              50              29           135   \n",
       "4  1587148418583  2019-10-31              34              22           135   \n",
       "\n",
       "   sms_outgoing  data_upload  data_download  \n",
       "0            19          741           2503  \n",
       "1            20         1134           1801  \n",
       "2           127          742           3068  \n",
       "3            42         1292           1493  \n",
       "4            91          747           2191  "
      ]
     },
     "execution_count": null,
     "metadata": {},
     "output_type": "execute_result"
    }
   ],
   "source": [
    "cur_dt = dt['telco_cdr']\n",
    "cur_dt.head()"
   ]
  },
  {
   "cell_type": "markdown",
   "metadata": {},
   "source": [
    "records of a single id"
   ]
  },
  {
   "cell_type": "code",
   "execution_count": null,
   "metadata": {},
   "outputs": [
    {
     "data": {
      "text/html": [
       "<div>\n",
       "<style scoped>\n",
       "    .dataframe tbody tr th:only-of-type {\n",
       "        vertical-align: middle;\n",
       "    }\n",
       "\n",
       "    .dataframe tbody tr th {\n",
       "        vertical-align: top;\n",
       "    }\n",
       "\n",
       "    .dataframe thead th {\n",
       "        text-align: right;\n",
       "    }\n",
       "</style>\n",
       "<table border=\"1\" class=\"dataframe\">\n",
       "  <thead>\n",
       "    <tr style=\"text-align: right;\">\n",
       "      <th></th>\n",
       "      <th>msisdn</th>\n",
       "      <th>date</th>\n",
       "      <th>voice_incoming</th>\n",
       "      <th>voice_outgoing</th>\n",
       "      <th>sms_incoming</th>\n",
       "      <th>sms_outgoing</th>\n",
       "      <th>data_upload</th>\n",
       "      <th>data_download</th>\n",
       "    </tr>\n",
       "  </thead>\n",
       "  <tbody>\n",
       "    <tr>\n",
       "      <th>63</th>\n",
       "      <td>2504021639</td>\n",
       "      <td>2019-10-31</td>\n",
       "      <td>45</td>\n",
       "      <td>30</td>\n",
       "      <td>116</td>\n",
       "      <td>42</td>\n",
       "      <td>1383</td>\n",
       "      <td>2206</td>\n",
       "    </tr>\n",
       "    <tr>\n",
       "      <th>15063</th>\n",
       "      <td>2504021639</td>\n",
       "      <td>2019-11-30</td>\n",
       "      <td>53</td>\n",
       "      <td>29</td>\n",
       "      <td>93</td>\n",
       "      <td>53</td>\n",
       "      <td>1809</td>\n",
       "      <td>2377</td>\n",
       "    </tr>\n",
       "    <tr>\n",
       "      <th>30063</th>\n",
       "      <td>2504021639</td>\n",
       "      <td>2019-12-31</td>\n",
       "      <td>56</td>\n",
       "      <td>31</td>\n",
       "      <td>87</td>\n",
       "      <td>63</td>\n",
       "      <td>2228</td>\n",
       "      <td>3176</td>\n",
       "    </tr>\n",
       "    <tr>\n",
       "      <th>45063</th>\n",
       "      <td>2504021639</td>\n",
       "      <td>2020-01-31</td>\n",
       "      <td>52</td>\n",
       "      <td>29</td>\n",
       "      <td>111</td>\n",
       "      <td>61</td>\n",
       "      <td>2336</td>\n",
       "      <td>3572</td>\n",
       "    </tr>\n",
       "    <tr>\n",
       "      <th>60063</th>\n",
       "      <td>2504021639</td>\n",
       "      <td>2020-02-29</td>\n",
       "      <td>47</td>\n",
       "      <td>28</td>\n",
       "      <td>121</td>\n",
       "      <td>74</td>\n",
       "      <td>2207</td>\n",
       "      <td>3539</td>\n",
       "    </tr>\n",
       "    <tr>\n",
       "      <th>75063</th>\n",
       "      <td>2504021639</td>\n",
       "      <td>2020-03-31</td>\n",
       "      <td>39</td>\n",
       "      <td>31</td>\n",
       "      <td>174</td>\n",
       "      <td>92</td>\n",
       "      <td>1555</td>\n",
       "      <td>3636</td>\n",
       "    </tr>\n",
       "  </tbody>\n",
       "</table>\n",
       "</div>"
      ],
      "text/plain": [
       "           msisdn        date  voice_incoming  voice_outgoing  sms_incoming  \\\n",
       "63     2504021639  2019-10-31              45              30           116   \n",
       "15063  2504021639  2019-11-30              53              29            93   \n",
       "30063  2504021639  2019-12-31              56              31            87   \n",
       "45063  2504021639  2020-01-31              52              29           111   \n",
       "60063  2504021639  2020-02-29              47              28           121   \n",
       "75063  2504021639  2020-03-31              39              31           174   \n",
       "\n",
       "       sms_outgoing  data_upload  data_download  \n",
       "63               42         1383           2206  \n",
       "15063            53         1809           2377  \n",
       "30063            63         2228           3176  \n",
       "45063            61         2336           3572  \n",
       "60063            74         2207           3539  \n",
       "75063            92         1555           3636  "
      ]
     },
     "execution_count": null,
     "metadata": {},
     "output_type": "execute_result"
    }
   ],
   "source": [
    "cur_dt.loc[cur_dt['msisdn']==2504021639]"
   ]
  },
  {
   "cell_type": "markdown",
   "metadata": {},
   "source": [
    "Unique dates available in the data"
   ]
  },
  {
   "cell_type": "code",
   "execution_count": null,
   "metadata": {},
   "outputs": [
    {
     "data": {
      "text/plain": [
       "['2019-10-31',\n",
       " '2019-11-30',\n",
       " '2019-12-31',\n",
       " '2020-01-31',\n",
       " '2020-02-29',\n",
       " '2020-03-31']"
      ]
     },
     "execution_count": null,
     "metadata": {},
     "output_type": "execute_result"
    }
   ],
   "source": [
    "list(cur_dt.date.unique())"
   ]
  },
  {
   "cell_type": "code",
   "execution_count": null,
   "metadata": {},
   "outputs": [
    {
     "data": {
      "text/plain": [
       "6"
      ]
     },
     "execution_count": null,
     "metadata": {},
     "output_type": "execute_result"
    }
   ],
   "source": [
    "cur_dt.groupby('msisdn')['date'].nunique().min()"
   ]
  },
  {
   "cell_type": "markdown",
   "metadata": {},
   "source": [
    "look like everyone has past 6 months of CDR (call detail record). "
   ]
  },
  {
   "cell_type": "markdown",
   "metadata": {},
   "source": [
    "### histogram of cdr metrics"
   ]
  },
  {
   "cell_type": "code",
   "execution_count": null,
   "metadata": {},
   "outputs": [
    {
     "data": {
      "image/png": "[encoded data removed]",
      "text/plain": [
       "<Figure size 432x288 with 4 Axes>"
      ]
     },
     "metadata": {
      "needs_background": "light"
     },
     "output_type": "display_data"
    }
   ],
   "source": [
    "cur_dt[['voice_incoming','voice_outgoing','sms_incoming','sms_outgoing']].hist();"
   ]
  },
  {
   "cell_type": "code",
   "execution_count": null,
   "metadata": {},
   "outputs": [
    {
     "data": {
      "image/png": "[encoded data removed]",
      "text/plain": [
       "<Figure size 432x288 with 2 Axes>"
      ]
     },
     "metadata": {
      "needs_background": "light"
     },
     "output_type": "display_data"
    }
   ],
   "source": [
    "cur_dt[['data_upload','data_download']].hist();"
   ]
  },
  {
   "cell_type": "markdown",
   "metadata": {},
   "source": [
    "given how well distributed the cdr data is, it is likely to be artificial data."
   ]
  },
  {
   "cell_type": "markdown",
   "metadata": {},
   "source": [
    "## telco_locations\n",
    "day and night location?\n",
    "\n",
    "Top 10 locations that each customer has visited in the month before the\n",
    "reference date. "
   ]
  },
  {
   "cell_type": "code",
   "execution_count": null,
   "metadata": {},
   "outputs": [
    {
     "data": {
      "text/html": [
       "<div>\n",
       "<style scoped>\n",
       "    .dataframe tbody tr th:only-of-type {\n",
       "        vertical-align: middle;\n",
       "    }\n",
       "\n",
       "    .dataframe tbody tr th {\n",
       "        vertical-align: top;\n",
       "    }\n",
       "\n",
       "    .dataframe thead th {\n",
       "        text-align: right;\n",
       "    }\n",
       "</style>\n",
       "<table border=\"1\" class=\"dataframe\">\n",
       "  <thead>\n",
       "    <tr style=\"text-align: right;\">\n",
       "      <th></th>\n",
       "      <th>latitude</th>\n",
       "      <th>longitude</th>\n",
       "      <th>msisdn</th>\n",
       "    </tr>\n",
       "  </thead>\n",
       "  <tbody>\n",
       "    <tr>\n",
       "      <th>0</th>\n",
       "      <td>1.326087</td>\n",
       "      <td>103.898460</td>\n",
       "      <td>6048764759382</td>\n",
       "    </tr>\n",
       "    <tr>\n",
       "      <th>1</th>\n",
       "      <td>1.301823</td>\n",
       "      <td>103.904991</td>\n",
       "      <td>1948924115781</td>\n",
       "    </tr>\n",
       "    <tr>\n",
       "      <th>2</th>\n",
       "      <td>1.301894</td>\n",
       "      <td>103.904761</td>\n",
       "      <td>5938778408016</td>\n",
       "    </tr>\n",
       "  </tbody>\n",
       "</table>\n",
       "</div>"
      ],
      "text/plain": [
       "   latitude   longitude         msisdn\n",
       "0  1.326087  103.898460  6048764759382\n",
       "1  1.301823  103.904991  1948924115781\n",
       "2  1.301894  103.904761  5938778408016"
      ]
     },
     "execution_count": null,
     "metadata": {},
     "output_type": "execute_result"
    }
   ],
   "source": [
    "# hide\n",
    "cur_dt = dt['telco_locations']\n",
    "cur_dt[:3]"
   ]
  },
  {
   "cell_type": "markdown",
   "metadata": {},
   "source": [
    "Each msisdn id has two lat lon,\n",
    "I suspect that this is the day and night location for each user."
   ]
  },
  {
   "cell_type": "code",
   "execution_count": null,
   "metadata": {},
   "outputs": [
    {
     "name": "stdout",
     "output_type": "stream",
     "text": [
      "minimum records of msmdn :2\n",
      "maximum records of msmdn :2\n"
     ]
    }
   ],
   "source": [
    "tmp_groupby = cur_dt.groupby('msisdn').size().min()\n",
    "print(f'minimum records of msmdn :{tmp_groupby.min()}')\n",
    "print(f'maximum records of msmdn :{tmp_groupby.min()}')"
   ]
  },
  {
   "cell_type": "markdown",
   "metadata": {},
   "source": [
    "# telco_reviews"
   ]
  },
  {
   "cell_type": "markdown",
   "metadata": {},
   "source": [
    " Feedback by customers to the support / help portal"
   ]
  },
  {
   "cell_type": "code",
   "execution_count": null,
   "metadata": {},
   "outputs": [
    {
     "data": {
      "text/html": [
       "<div>\n",
       "<style scoped>\n",
       "    .dataframe tbody tr th:only-of-type {\n",
       "        vertical-align: middle;\n",
       "    }\n",
       "\n",
       "    .dataframe tbody tr th {\n",
       "        vertical-align: top;\n",
       "    }\n",
       "\n",
       "    .dataframe thead th {\n",
       "        text-align: right;\n",
       "    }\n",
       "</style>\n",
       "<table border=\"1\" class=\"dataframe\">\n",
       "  <thead>\n",
       "    <tr style=\"text-align: right;\">\n",
       "      <th></th>\n",
       "      <th>msisdn</th>\n",
       "      <th>date</th>\n",
       "      <th>feedback</th>\n",
       "    </tr>\n",
       "  </thead>\n",
       "  <tbody>\n",
       "    <tr>\n",
       "      <th>0</th>\n",
       "      <td>6048764759382</td>\n",
       "      <td>2019-10-31</td>\n",
       "      <td>Detailed bluetooth weighted component biotechn...</td>\n",
       "    </tr>\n",
       "    <tr>\n",
       "      <th>1</th>\n",
       "      <td>1948924115781</td>\n",
       "      <td>2019-10-31</td>\n",
       "      <td>Functionality plenty clients magical baghdad s...</td>\n",
       "    </tr>\n",
       "    <tr>\n",
       "      <th>2</th>\n",
       "      <td>5938778408016</td>\n",
       "      <td>2019-10-31</td>\n",
       "      <td>Imports rj mardi henry mm ones optical laptops...</td>\n",
       "    </tr>\n",
       "    <tr>\n",
       "      <th>3</th>\n",
       "      <td>975351393328</td>\n",
       "      <td>2019-10-31</td>\n",
       "      <td>Stephen eminem valued evidence prescription si...</td>\n",
       "    </tr>\n",
       "    <tr>\n",
       "      <th>4</th>\n",
       "      <td>1587148418583</td>\n",
       "      <td>2019-10-31</td>\n",
       "      <td>Cap designated choose entertainment discussion...</td>\n",
       "    </tr>\n",
       "  </tbody>\n",
       "</table>\n",
       "</div>"
      ],
      "text/plain": [
       "          msisdn        date  \\\n",
       "0  6048764759382  2019-10-31   \n",
       "1  1948924115781  2019-10-31   \n",
       "2  5938778408016  2019-10-31   \n",
       "3   975351393328  2019-10-31   \n",
       "4  1587148418583  2019-10-31   \n",
       "\n",
       "                                            feedback  \n",
       "0  Detailed bluetooth weighted component biotechn...  \n",
       "1  Functionality plenty clients magical baghdad s...  \n",
       "2  Imports rj mardi henry mm ones optical laptops...  \n",
       "3  Stephen eminem valued evidence prescription si...  \n",
       "4  Cap designated choose entertainment discussion...  "
      ]
     },
     "execution_count": null,
     "metadata": {},
     "output_type": "execute_result"
    }
   ],
   "source": [
    "cur_dt = dt['telco_reviews']\n",
    "cur_dt[:5]"
   ]
  },
  {
   "cell_type": "markdown",
   "metadata": {},
   "source": [
    "printing the feedback in full\n",
    "- the sample here looks pretty random.."
   ]
  },
  {
   "cell_type": "code",
   "execution_count": null,
   "metadata": {},
   "outputs": [
    {
     "data": {
      "text/plain": [
       "['Detailed bluetooth weighted component biotechnology maryland maker opening club lips gi maker slides.',\n",
       " 'Functionality plenty clients magical baghdad submit eagles stephen pastor necklace doing mitchell logistics.',\n",
       " 'Imports rj mardi henry mm ones optical laptops chase proprietary doll contracts classified.',\n",
       " 'Stephen eminem valued evidence prescription sig kruger iraq experts leaders tobago cut central lancaster cliff bracelet wonder.',\n",
       " 'Cap designated choose entertainment discussion cameron paint embedded prediction cube leading rpm nato principal housing speaker.']"
      ]
     },
     "execution_count": null,
     "metadata": {},
     "output_type": "execute_result"
    }
   ],
   "source": [
    "cur_dt['feedback'][:5].tolist()"
   ]
  },
  {
   "cell_type": "markdown",
   "metadata": {},
   "source": [
    "number of unique msisdn records"
   ]
  },
  {
   "cell_type": "code",
   "execution_count": null,
   "metadata": {},
   "outputs": [
    {
     "data": {
      "text/plain": [
       "15000"
      ]
     },
     "execution_count": null,
     "metadata": {},
     "output_type": "execute_result"
    }
   ],
   "source": [
    "cur_dt['msisdn'].nunique()"
   ]
  },
  {
   "cell_type": "markdown",
   "metadata": {},
   "source": [
    "looks like everyone has 6 records"
   ]
  },
  {
   "cell_type": "code",
   "execution_count": null,
   "metadata": {},
   "outputs": [
    {
     "data": {
      "text/plain": [
       "<AxesSubplot:>"
      ]
     },
     "execution_count": null,
     "metadata": {},
     "output_type": "execute_result"
    },
    {
     "data": {
      "image/png": "[encoded data removed]",
      "text/plain": [
       "<Figure size 432x288 with 1 Axes>"
      ]
     },
     "metadata": {
      "needs_background": "light"
     },
     "output_type": "display_data"
    }
   ],
   "source": [
    "cur_dt.groupby('msisdn').size().hist()"
   ]
  },
  {
   "cell_type": "markdown",
   "metadata": {},
   "source": [
    "## telco_web\n",
    "Monthly aggregates of website browsing behavior by customer / website\n",
    "combination"
   ]
  },
  {
   "cell_type": "code",
   "execution_count": null,
   "metadata": {},
   "outputs": [
    {
     "data": {
      "text/html": [
       "<div>\n",
       "<style scoped>\n",
       "    .dataframe tbody tr th:only-of-type {\n",
       "        vertical-align: middle;\n",
       "    }\n",
       "\n",
       "    .dataframe tbody tr th {\n",
       "        vertical-align: top;\n",
       "    }\n",
       "\n",
       "    .dataframe thead th {\n",
       "        text-align: right;\n",
       "    }\n",
       "</style>\n",
       "<table border=\"1\" class=\"dataframe\">\n",
       "  <thead>\n",
       "    <tr style=\"text-align: right;\">\n",
       "      <th></th>\n",
       "      <th>msisdn</th>\n",
       "      <th>date</th>\n",
       "      <th>website</th>\n",
       "      <th>visits</th>\n",
       "    </tr>\n",
       "  </thead>\n",
       "  <tbody>\n",
       "    <tr>\n",
       "      <th>0</th>\n",
       "      <td>6048764759382</td>\n",
       "      <td>2019-10-31</td>\n",
       "      <td>www.singtel.com</td>\n",
       "      <td>620</td>\n",
       "    </tr>\n",
       "    <tr>\n",
       "      <th>1</th>\n",
       "      <td>6048764759382</td>\n",
       "      <td>2019-10-31</td>\n",
       "      <td>www.starhub.com</td>\n",
       "      <td>267</td>\n",
       "    </tr>\n",
       "    <tr>\n",
       "      <th>2</th>\n",
       "      <td>6048764759382</td>\n",
       "      <td>2019-10-31</td>\n",
       "      <td>www.facebook.com</td>\n",
       "      <td>4260</td>\n",
       "    </tr>\n",
       "    <tr>\n",
       "      <th>3</th>\n",
       "      <td>6048764759382</td>\n",
       "      <td>2019-10-31</td>\n",
       "      <td>www.instagram.com</td>\n",
       "      <td>78</td>\n",
       "    </tr>\n",
       "    <tr>\n",
       "      <th>4</th>\n",
       "      <td>6048764759382</td>\n",
       "      <td>2019-10-31</td>\n",
       "      <td>www.cnn.com</td>\n",
       "      <td>782</td>\n",
       "    </tr>\n",
       "  </tbody>\n",
       "</table>\n",
       "</div>"
      ],
      "text/plain": [
       "          msisdn        date            website  visits\n",
       "0  6048764759382  2019-10-31    www.singtel.com     620\n",
       "1  6048764759382  2019-10-31    www.starhub.com     267\n",
       "2  6048764759382  2019-10-31   www.facebook.com    4260\n",
       "3  6048764759382  2019-10-31  www.instagram.com      78\n",
       "4  6048764759382  2019-10-31        www.cnn.com     782"
      ]
     },
     "execution_count": null,
     "metadata": {},
     "output_type": "execute_result"
    }
   ],
   "source": [
    "cur_dt = dt['telco_web']\n",
    "cur_dt.head()"
   ]
  },
  {
   "cell_type": "code",
   "execution_count": null,
   "metadata": {},
   "outputs": [
    {
     "data": {
      "text/plain": [
       "<AxesSubplot:>"
      ]
     },
     "execution_count": null,
     "metadata": {},
     "output_type": "execute_result"
    },
    {
     "data": {
      "image/png": "[encoded data removed]",
      "text/plain": [
       "<Figure size 432x288 with 1 Axes>"
      ]
     },
     "metadata": {
      "needs_background": "light"
     },
     "output_type": "display_data"
    }
   ],
   "source": [
    "cur_dt.groupby('msisdn').size().hist()"
   ]
  },
  {
   "cell_type": "code",
   "execution_count": null,
   "metadata": {},
   "outputs": [
    {
     "data": {
      "image/png": "[encoded data removed]",
      "text/plain": [
       "<Figure size 432x288 with 6 Axes>"
      ]
     },
     "metadata": {
      "needs_background": "light"
     },
     "output_type": "display_data"
    }
   ],
   "source": [
    "cur_dt.hist(column ='visits', by='website', sharex=True);"
   ]
  },
  {
   "cell_type": "markdown",
   "metadata": {},
   "source": [
    "## telco_census\n",
    "Data on household income groups by planning area of the people residing there."
   ]
  },
  {
   "cell_type": "code",
   "execution_count": null,
   "metadata": {},
   "outputs": [
    {
     "data": {
      "text/html": [
       "<div>\n",
       "<style scoped>\n",
       "    .dataframe tbody tr th:only-of-type {\n",
       "        vertical-align: middle;\n",
       "    }\n",
       "\n",
       "    .dataframe tbody tr th {\n",
       "        vertical-align: top;\n",
       "    }\n",
       "\n",
       "    .dataframe thead th {\n",
       "        text-align: right;\n",
       "    }\n",
       "</style>\n",
       "<table border=\"1\" class=\"dataframe\">\n",
       "  <thead>\n",
       "    <tr style=\"text-align: right;\">\n",
       "      <th></th>\n",
       "      <th>planning_area</th>\n",
       "      <th>total</th>\n",
       "      <th>below_sgd_1000</th>\n",
       "      <th>no_working_person</th>\n",
       "      <th>sgd_10000_over</th>\n",
       "      <th>sgd_1000_to_1999</th>\n",
       "      <th>sgd_2000_to_2999</th>\n",
       "      <th>sgd_3000_to_3999</th>\n",
       "      <th>sgd_4000_to_4999</th>\n",
       "      <th>sgd_5000_to_5999</th>\n",
       "      <th>...</th>\n",
       "      <th>sgd_10000_over_percent</th>\n",
       "      <th>sgd_1000_to_1999_percent</th>\n",
       "      <th>sgd_2000_to_2999_percent</th>\n",
       "      <th>sgd_3000_to_3999_percent</th>\n",
       "      <th>sgd_4000_to_4999_percent</th>\n",
       "      <th>sgd_5000_to_5999_percent</th>\n",
       "      <th>sgd_6000_to_6999_percent</th>\n",
       "      <th>sgd_7000_to_7999_percent</th>\n",
       "      <th>sgd_8000_to_8999_percent</th>\n",
       "      <th>sgd_9000_to_9999_percent</th>\n",
       "    </tr>\n",
       "  </thead>\n",
       "  <tbody>\n",
       "    <tr>\n",
       "      <th>0</th>\n",
       "      <td>ANG MO KIO</td>\n",
       "      <td>59705</td>\n",
       "      <td>3136</td>\n",
       "      <td>8467</td>\n",
       "      <td>12137</td>\n",
       "      <td>5549</td>\n",
       "      <td>6055</td>\n",
       "      <td>5236</td>\n",
       "      <td>4565</td>\n",
       "      <td>3959</td>\n",
       "      <td>...</td>\n",
       "      <td>20.328281</td>\n",
       "      <td>9.294029</td>\n",
       "      <td>10.141529</td>\n",
       "      <td>8.769785</td>\n",
       "      <td>7.645926</td>\n",
       "      <td>6.630935</td>\n",
       "      <td>5.622645</td>\n",
       "      <td>4.875639</td>\n",
       "      <td>4.090110</td>\n",
       "      <td>3.167239</td>\n",
       "    </tr>\n",
       "    <tr>\n",
       "      <th>1</th>\n",
       "      <td>BEDOK</td>\n",
       "      <td>91224</td>\n",
       "      <td>3782</td>\n",
       "      <td>11143</td>\n",
       "      <td>25281</td>\n",
       "      <td>6857</td>\n",
       "      <td>7476</td>\n",
       "      <td>7362</td>\n",
       "      <td>6596</td>\n",
       "      <td>5825</td>\n",
       "      <td>...</td>\n",
       "      <td>27.713102</td>\n",
       "      <td>7.516662</td>\n",
       "      <td>8.195212</td>\n",
       "      <td>8.070245</td>\n",
       "      <td>7.230553</td>\n",
       "      <td>6.385381</td>\n",
       "      <td>5.967728</td>\n",
       "      <td>4.770674</td>\n",
       "      <td>4.173244</td>\n",
       "      <td>3.615277</td>\n",
       "    </tr>\n",
       "    <tr>\n",
       "      <th>2</th>\n",
       "      <td>BISHAN</td>\n",
       "      <td>27457</td>\n",
       "      <td>595</td>\n",
       "      <td>2855</td>\n",
       "      <td>10264</td>\n",
       "      <td>1166</td>\n",
       "      <td>1390</td>\n",
       "      <td>1717</td>\n",
       "      <td>1616</td>\n",
       "      <td>1594</td>\n",
       "      <td>...</td>\n",
       "      <td>37.382088</td>\n",
       "      <td>4.246640</td>\n",
       "      <td>5.062461</td>\n",
       "      <td>6.253414</td>\n",
       "      <td>5.885567</td>\n",
       "      <td>5.805441</td>\n",
       "      <td>6.133226</td>\n",
       "      <td>5.907419</td>\n",
       "      <td>5.026041</td>\n",
       "      <td>5.728958</td>\n",
       "    </tr>\n",
       "    <tr>\n",
       "      <th>3</th>\n",
       "      <td>BUKIT BATOK</td>\n",
       "      <td>44133</td>\n",
       "      <td>1136</td>\n",
       "      <td>3452</td>\n",
       "      <td>13088</td>\n",
       "      <td>2849</td>\n",
       "      <td>3486</td>\n",
       "      <td>3723</td>\n",
       "      <td>3537</td>\n",
       "      <td>3264</td>\n",
       "      <td>...</td>\n",
       "      <td>29.655813</td>\n",
       "      <td>6.455487</td>\n",
       "      <td>7.898851</td>\n",
       "      <td>8.435864</td>\n",
       "      <td>8.014411</td>\n",
       "      <td>7.395826</td>\n",
       "      <td>6.852015</td>\n",
       "      <td>5.619378</td>\n",
       "      <td>4.921487</td>\n",
       "      <td>4.355018</td>\n",
       "    </tr>\n",
       "    <tr>\n",
       "      <th>4</th>\n",
       "      <td>BUKIT MERAH</td>\n",
       "      <td>55627</td>\n",
       "      <td>4142</td>\n",
       "      <td>10311</td>\n",
       "      <td>10685</td>\n",
       "      <td>5324</td>\n",
       "      <td>4495</td>\n",
       "      <td>3767</td>\n",
       "      <td>3679</td>\n",
       "      <td>3602</td>\n",
       "      <td>...</td>\n",
       "      <td>19.208298</td>\n",
       "      <td>9.570892</td>\n",
       "      <td>8.080608</td>\n",
       "      <td>6.771891</td>\n",
       "      <td>6.613695</td>\n",
       "      <td>6.475273</td>\n",
       "      <td>5.245654</td>\n",
       "      <td>4.589498</td>\n",
       "      <td>4.210186</td>\n",
       "      <td>3.252018</td>\n",
       "    </tr>\n",
       "  </tbody>\n",
       "</table>\n",
       "<p>5 rows × 26 columns</p>\n",
       "</div>"
      ],
      "text/plain": [
       "  planning_area  total  below_sgd_1000  no_working_person  sgd_10000_over  \\\n",
       "0    ANG MO KIO  59705            3136               8467           12137   \n",
       "1         BEDOK  91224            3782              11143           25281   \n",
       "2        BISHAN  27457             595               2855           10264   \n",
       "3   BUKIT BATOK  44133            1136               3452           13088   \n",
       "4   BUKIT MERAH  55627            4142              10311           10685   \n",
       "\n",
       "   sgd_1000_to_1999  sgd_2000_to_2999  sgd_3000_to_3999  sgd_4000_to_4999  \\\n",
       "0              5549              6055              5236              4565   \n",
       "1              6857              7476              7362              6596   \n",
       "2              1166              1390              1717              1616   \n",
       "3              2849              3486              3723              3537   \n",
       "4              5324              4495              3767              3679   \n",
       "\n",
       "   sgd_5000_to_5999  ...  sgd_10000_over_percent  sgd_1000_to_1999_percent  \\\n",
       "0              3959  ...               20.328281                  9.294029   \n",
       "1              5825  ...               27.713102                  7.516662   \n",
       "2              1594  ...               37.382088                  4.246640   \n",
       "3              3264  ...               29.655813                  6.455487   \n",
       "4              3602  ...               19.208298                  9.570892   \n",
       "\n",
       "   sgd_2000_to_2999_percent  sgd_3000_to_3999_percent  \\\n",
       "0                 10.141529                  8.769785   \n",
       "1                  8.195212                  8.070245   \n",
       "2                  5.062461                  6.253414   \n",
       "3                  7.898851                  8.435864   \n",
       "4                  8.080608                  6.771891   \n",
       "\n",
       "   sgd_4000_to_4999_percent  sgd_5000_to_5999_percent  \\\n",
       "0                  7.645926                  6.630935   \n",
       "1                  7.230553                  6.385381   \n",
       "2                  5.885567                  5.805441   \n",
       "3                  8.014411                  7.395826   \n",
       "4                  6.613695                  6.475273   \n",
       "\n",
       "   sgd_6000_to_6999_percent  sgd_7000_to_7999_percent  \\\n",
       "0                  5.622645                  4.875639   \n",
       "1                  5.967728                  4.770674   \n",
       "2                  6.133226                  5.907419   \n",
       "3                  6.852015                  5.619378   \n",
       "4                  5.245654                  4.589498   \n",
       "\n",
       "   sgd_8000_to_8999_percent  sgd_9000_to_9999_percent  \n",
       "0                  4.090110                  3.167239  \n",
       "1                  4.173244                  3.615277  \n",
       "2                  5.026041                  5.728958  \n",
       "3                  4.921487                  4.355018  \n",
       "4                  4.210186                  3.252018  \n",
       "\n",
       "[5 rows x 26 columns]"
      ]
     },
     "execution_count": null,
     "metadata": {},
     "output_type": "execute_result"
    }
   ],
   "source": [
    "cur_dt = dt['telco_census']\n",
    "cur_dt.head()"
   ]
  },
  {
   "cell_type": "code",
   "execution_count": null,
   "metadata": {},
   "outputs": [
    {
     "data": {
      "text/plain": [
       "Index(['planning_area', 'total', 'below_sgd_1000', 'no_working_person',\n",
       "       'sgd_10000_over', 'sgd_1000_to_1999', 'sgd_2000_to_2999',\n",
       "       'sgd_3000_to_3999', 'sgd_4000_to_4999', 'sgd_5000_to_5999',\n",
       "       'sgd_6000_to_6999', 'sgd_7000_to_7999', 'sgd_8000_to_8999',\n",
       "       'sgd_9000_to_9999', 'below_sgd_1000_percent',\n",
       "       'no_working_person_percent', 'sgd_10000_over_percent',\n",
       "       'sgd_1000_to_1999_percent', 'sgd_2000_to_2999_percent',\n",
       "       'sgd_3000_to_3999_percent', 'sgd_4000_to_4999_percent',\n",
       "       'sgd_5000_to_5999_percent', 'sgd_6000_to_6999_percent',\n",
       "       'sgd_7000_to_7999_percent', 'sgd_8000_to_8999_percent',\n",
       "       'sgd_9000_to_9999_percent'],\n",
       "      dtype='object')"
      ]
     },
     "execution_count": null,
     "metadata": {},
     "output_type": "execute_result"
    }
   ],
   "source": [
    "cur_dt.columns"
   ]
  },
  {
   "cell_type": "markdown",
   "metadata": {},
   "source": [
    "## telco_train\n",
    "This is the main training dataset. Msisdn is the unique key identifying a\n",
    "customer. Churn is the target variable and is defined by whether the customer has\n",
    "cancelled his service within three months from the reference date"
   ]
  },
  {
   "cell_type": "code",
   "execution_count": null,
   "metadata": {},
   "outputs": [
    {
     "data": {
      "text/html": [
       "<div>\n",
       "<style scoped>\n",
       "    .dataframe tbody tr th:only-of-type {\n",
       "        vertical-align: middle;\n",
       "    }\n",
       "\n",
       "    .dataframe tbody tr th {\n",
       "        vertical-align: top;\n",
       "    }\n",
       "\n",
       "    .dataframe thead th {\n",
       "        text-align: right;\n",
       "    }\n",
       "</style>\n",
       "<table border=\"1\" class=\"dataframe\">\n",
       "  <thead>\n",
       "    <tr style=\"text-align: right;\">\n",
       "      <th></th>\n",
       "      <th>msisdn</th>\n",
       "      <th>churn</th>\n",
       "      <th>name</th>\n",
       "      <th>gender</th>\n",
       "      <th>age</th>\n",
       "      <th>birthday</th>\n",
       "      <th>contract</th>\n",
       "      <th>internet_service</th>\n",
       "      <th>account_start_date</th>\n",
       "      <th>address</th>\n",
       "      <th>latlong</th>\n",
       "      <th>planning_area</th>\n",
       "      <th>reference_date</th>\n",
       "    </tr>\n",
       "  </thead>\n",
       "  <tbody>\n",
       "    <tr>\n",
       "      <th>0</th>\n",
       "      <td>6048764759382</td>\n",
       "      <td>False</td>\n",
       "      <td>Samuel Stephens</td>\n",
       "      <td>male</td>\n",
       "      <td>44</td>\n",
       "      <td>1977-04-18</td>\n",
       "      <td>monthly</td>\n",
       "      <td>fiber</td>\n",
       "      <td>2018-03-15</td>\n",
       "      <td>94 LOR 4 TOA PAYOH</td>\n",
       "      <td>1.33889442783828,103.849538318068</td>\n",
       "      <td>TOA PAYOH</td>\n",
       "      <td>2020-04-15</td>\n",
       "    </tr>\n",
       "    <tr>\n",
       "      <th>1</th>\n",
       "      <td>1948924115781</td>\n",
       "      <td>False</td>\n",
       "      <td>Dana Alexander</td>\n",
       "      <td>female</td>\n",
       "      <td>21</td>\n",
       "      <td>1999-08-19</td>\n",
       "      <td>two-year</td>\n",
       "      <td>fiber</td>\n",
       "      <td>2016-07-14</td>\n",
       "      <td>109 ALJUNIED CRES</td>\n",
       "      <td>1.31939291785824,103.884439876207</td>\n",
       "      <td>GEYLANG</td>\n",
       "      <td>2020-04-15</td>\n",
       "    </tr>\n",
       "    <tr>\n",
       "      <th>2</th>\n",
       "      <td>5938778408016</td>\n",
       "      <td>False</td>\n",
       "      <td>Megan Rose</td>\n",
       "      <td>female</td>\n",
       "      <td>57</td>\n",
       "      <td>1963-09-13</td>\n",
       "      <td>monthly</td>\n",
       "      <td>fiber</td>\n",
       "      <td>2018-11-24</td>\n",
       "      <td>208 BOON LAY PL</td>\n",
       "      <td>1.3465747534549,103.714427056113</td>\n",
       "      <td>JURONG WEST</td>\n",
       "      <td>2020-04-15</td>\n",
       "    </tr>\n",
       "    <tr>\n",
       "      <th>3</th>\n",
       "      <td>975351393328</td>\n",
       "      <td>False</td>\n",
       "      <td>Bianca Norman</td>\n",
       "      <td>female</td>\n",
       "      <td>49</td>\n",
       "      <td>1971-11-29</td>\n",
       "      <td>two-year</td>\n",
       "      <td>no</td>\n",
       "      <td>2014-04-03</td>\n",
       "      <td>548 BEDOK NTH AVE 1</td>\n",
       "      <td>1.33131021834566,103.92685391703</td>\n",
       "      <td>BEDOK</td>\n",
       "      <td>2020-04-15</td>\n",
       "    </tr>\n",
       "    <tr>\n",
       "      <th>4</th>\n",
       "      <td>1587148418583</td>\n",
       "      <td>False</td>\n",
       "      <td>Pamela Romero</td>\n",
       "      <td>female</td>\n",
       "      <td>24</td>\n",
       "      <td>1996-05-27</td>\n",
       "      <td>monthly</td>\n",
       "      <td>no</td>\n",
       "      <td>2011-10-31</td>\n",
       "      <td>45 CHAI CHEE ST</td>\n",
       "      <td>1.32864779394512,103.924495382454</td>\n",
       "      <td>BEDOK</td>\n",
       "      <td>2020-04-15</td>\n",
       "    </tr>\n",
       "  </tbody>\n",
       "</table>\n",
       "</div>"
      ],
      "text/plain": [
       "          msisdn  churn             name  gender  age    birthday  contract  \\\n",
       "0  6048764759382  False  Samuel Stephens    male   44  1977-04-18   monthly   \n",
       "1  1948924115781  False   Dana Alexander  female   21  1999-08-19  two-year   \n",
       "2  5938778408016  False       Megan Rose  female   57  1963-09-13   monthly   \n",
       "3   975351393328  False    Bianca Norman  female   49  1971-11-29  two-year   \n",
       "4  1587148418583  False    Pamela Romero  female   24  1996-05-27   monthly   \n",
       "\n",
       "  internet_service account_start_date              address  \\\n",
       "0            fiber         2018-03-15   94 LOR 4 TOA PAYOH   \n",
       "1            fiber         2016-07-14    109 ALJUNIED CRES   \n",
       "2            fiber         2018-11-24      208 BOON LAY PL   \n",
       "3               no         2014-04-03  548 BEDOK NTH AVE 1   \n",
       "4               no         2011-10-31      45 CHAI CHEE ST   \n",
       "\n",
       "                             latlong planning_area reference_date  \n",
       "0  1.33889442783828,103.849538318068     TOA PAYOH     2020-04-15  \n",
       "1  1.31939291785824,103.884439876207       GEYLANG     2020-04-15  \n",
       "2   1.3465747534549,103.714427056113   JURONG WEST     2020-04-15  \n",
       "3   1.33131021834566,103.92685391703         BEDOK     2020-04-15  \n",
       "4  1.32864779394512,103.924495382454         BEDOK     2020-04-15  "
      ]
     },
     "execution_count": null,
     "metadata": {},
     "output_type": "execute_result"
    }
   ],
   "source": [
    "cur_dt = dt['telco_train']\n",
    "cur_dt.head()"
   ]
  },
  {
   "cell_type": "code",
   "execution_count": null,
   "metadata": {},
   "outputs": [
    {
     "data": {
      "text/plain": [
       "two-year    8067\n",
       "monthly     6933\n",
       "Name: contract, dtype: int64"
      ]
     },
     "execution_count": null,
     "metadata": {},
     "output_type": "execute_result"
    }
   ],
   "source": [
    "cur_dt['contract'].value_counts()"
   ]
  },
  {
   "cell_type": "code",
   "execution_count": null,
   "metadata": {},
   "outputs": [
    {
     "data": {
      "text/html": [
       "<div>\n",
       "<style scoped>\n",
       "    .dataframe tbody tr th:only-of-type {\n",
       "        vertical-align: middle;\n",
       "    }\n",
       "\n",
       "    .dataframe tbody tr th {\n",
       "        vertical-align: top;\n",
       "    }\n",
       "\n",
       "    .dataframe thead th {\n",
       "        text-align: right;\n",
       "    }\n",
       "</style>\n",
       "<table border=\"1\" class=\"dataframe\">\n",
       "  <thead>\n",
       "    <tr style=\"text-align: right;\">\n",
       "      <th></th>\n",
       "      <th>churn</th>\n",
       "      <th>internet_service</th>\n",
       "      <th>size</th>\n",
       "    </tr>\n",
       "  </thead>\n",
       "  <tbody>\n",
       "    <tr>\n",
       "      <th>0</th>\n",
       "      <td>False</td>\n",
       "      <td>fiber</td>\n",
       "      <td>6289</td>\n",
       "    </tr>\n",
       "    <tr>\n",
       "      <th>1</th>\n",
       "      <td>False</td>\n",
       "      <td>no</td>\n",
       "      <td>7153</td>\n",
       "    </tr>\n",
       "    <tr>\n",
       "      <th>2</th>\n",
       "      <td>True</td>\n",
       "      <td>fiber</td>\n",
       "      <td>795</td>\n",
       "    </tr>\n",
       "    <tr>\n",
       "      <th>3</th>\n",
       "      <td>True</td>\n",
       "      <td>no</td>\n",
       "      <td>763</td>\n",
       "    </tr>\n",
       "  </tbody>\n",
       "</table>\n",
       "</div>"
      ],
      "text/plain": [
       "   churn internet_service  size\n",
       "0  False            fiber  6289\n",
       "1  False               no  7153\n",
       "2   True            fiber   795\n",
       "3   True               no   763"
      ]
     },
     "execution_count": null,
     "metadata": {},
     "output_type": "execute_result"
    }
   ],
   "source": [
    "cur_dt.groupby(['churn','internet_service'], as_index=False).size()"
   ]
  },
  {
   "cell_type": "code",
   "execution_count": null,
   "metadata": {},
   "outputs": [
    {
     "data": {
      "text/html": [
       "<div>\n",
       "<style scoped>\n",
       "    .dataframe tbody tr th:only-of-type {\n",
       "        vertical-align: middle;\n",
       "    }\n",
       "\n",
       "    .dataframe tbody tr th {\n",
       "        vertical-align: top;\n",
       "    }\n",
       "\n",
       "    .dataframe thead th {\n",
       "        text-align: right;\n",
       "    }\n",
       "</style>\n",
       "<table border=\"1\" class=\"dataframe\">\n",
       "  <thead>\n",
       "    <tr style=\"text-align: right;\">\n",
       "      <th></th>\n",
       "      <th>internet_service</th>\n",
       "      <th>msisdn</th>\n",
       "    </tr>\n",
       "  </thead>\n",
       "  <tbody>\n",
       "    <tr>\n",
       "      <th>0</th>\n",
       "      <td>fiber</td>\n",
       "      <td>7084</td>\n",
       "    </tr>\n",
       "    <tr>\n",
       "      <th>1</th>\n",
       "      <td>no</td>\n",
       "      <td>7916</td>\n",
       "    </tr>\n",
       "  </tbody>\n",
       "</table>\n",
       "</div>"
      ],
      "text/plain": [
       "  internet_service  msisdn\n",
       "0            fiber    7084\n",
       "1               no    7916"
      ]
     },
     "execution_count": null,
     "metadata": {},
     "output_type": "execute_result"
    }
   ],
   "source": [
    "cur_dt.groupby(['internet_service'], as_index=False)['msisdn'].nunique()"
   ]
  },
  {
   "cell_type": "markdown",
   "metadata": {},
   "source": [
    "## telco_schools\n",
    "Locations of schools"
   ]
  },
  {
   "cell_type": "code",
   "execution_count": null,
   "metadata": {},
   "outputs": [
    {
     "data": {
      "text/html": [
       "<div>\n",
       "<style scoped>\n",
       "    .dataframe tbody tr th:only-of-type {\n",
       "        vertical-align: middle;\n",
       "    }\n",
       "\n",
       "    .dataframe tbody tr th {\n",
       "        vertical-align: top;\n",
       "    }\n",
       "\n",
       "    .dataframe thead th {\n",
       "        text-align: right;\n",
       "    }\n",
       "</style>\n",
       "<table border=\"1\" class=\"dataframe\">\n",
       "  <thead>\n",
       "    <tr style=\"text-align: right;\">\n",
       "      <th></th>\n",
       "      <th>category</th>\n",
       "      <th>name</th>\n",
       "      <th>latLong</th>\n",
       "    </tr>\n",
       "  </thead>\n",
       "  <tbody>\n",
       "    <tr>\n",
       "      <th>0</th>\n",
       "      <td>Primary Schools</td>\n",
       "      <td>Alexandra Primary</td>\n",
       "      <td>\"1.291298368, 103.8239405\"</td>\n",
       "    </tr>\n",
       "    <tr>\n",
       "      <th>1</th>\n",
       "      <td>Primary Schools</td>\n",
       "      <td>Gan Eng Seng Primary</td>\n",
       "      <td>\"1.2855944990000001, 103.8155471\"</td>\n",
       "    </tr>\n",
       "    <tr>\n",
       "      <th>2</th>\n",
       "      <td>Primary Schools</td>\n",
       "      <td>Zhangde Primary</td>\n",
       "      <td>\"1.284279434, 103.8261758\"</td>\n",
       "    </tr>\n",
       "    <tr>\n",
       "      <th>3</th>\n",
       "      <td>Secondary Schools</td>\n",
       "      <td>Crescent Girls</td>\n",
       "      <td>\"1.293318804, 103.8175441\"</td>\n",
       "    </tr>\n",
       "    <tr>\n",
       "      <th>4</th>\n",
       "      <td>Secondary Schools</td>\n",
       "      <td>Gan Eng Seng</td>\n",
       "      <td>\"1.289070478, 103.8237333\"</td>\n",
       "    </tr>\n",
       "  </tbody>\n",
       "</table>\n",
       "</div>"
      ],
      "text/plain": [
       "            category                  name                            latLong\n",
       "0    Primary Schools     Alexandra Primary         \"1.291298368, 103.8239405\"\n",
       "1    Primary Schools  Gan Eng Seng Primary  \"1.2855944990000001, 103.8155471\"\n",
       "2    Primary Schools       Zhangde Primary         \"1.284279434, 103.8261758\"\n",
       "3  Secondary Schools        Crescent Girls         \"1.293318804, 103.8175441\"\n",
       "4  Secondary Schools          Gan Eng Seng         \"1.289070478, 103.8237333\""
      ]
     },
     "execution_count": null,
     "metadata": {},
     "output_type": "execute_result"
    }
   ],
   "source": [
    "cur_dt = dt['telco_schools']\n",
    "cur_dt.head()"
   ]
  },
  {
   "cell_type": "code",
   "execution_count": null,
   "metadata": {},
   "outputs": [
    {
     "data": {
      "text/html": [
       "<div>\n",
       "<style scoped>\n",
       "    .dataframe tbody tr th:only-of-type {\n",
       "        vertical-align: middle;\n",
       "    }\n",
       "\n",
       "    .dataframe tbody tr th {\n",
       "        vertical-align: top;\n",
       "    }\n",
       "\n",
       "    .dataframe thead th {\n",
       "        text-align: right;\n",
       "    }\n",
       "</style>\n",
       "<table border=\"1\" class=\"dataframe\">\n",
       "  <thead>\n",
       "    <tr style=\"text-align: right;\">\n",
       "      <th></th>\n",
       "      <th>category</th>\n",
       "      <th>name</th>\n",
       "      <th>latLong</th>\n",
       "      <th>planning_area</th>\n",
       "    </tr>\n",
       "  </thead>\n",
       "  <tbody>\n",
       "    <tr>\n",
       "      <th>0</th>\n",
       "      <td>Primary Schools</td>\n",
       "      <td>Alexandra Primary</td>\n",
       "      <td>\"1.291298368, 103.8239405\"</td>\n",
       "      <td>BUKIT MERAH</td>\n",
       "    </tr>\n",
       "    <tr>\n",
       "      <th>1</th>\n",
       "      <td>Primary Schools</td>\n",
       "      <td>Gan Eng Seng Primary</td>\n",
       "      <td>\"1.2855944990000001, 103.8155471\"</td>\n",
       "      <td>BUKIT MERAH</td>\n",
       "    </tr>\n",
       "    <tr>\n",
       "      <th>2</th>\n",
       "      <td>Primary Schools</td>\n",
       "      <td>Zhangde Primary</td>\n",
       "      <td>\"1.284279434, 103.8261758\"</td>\n",
       "      <td>BUKIT MERAH</td>\n",
       "    </tr>\n",
       "    <tr>\n",
       "      <th>3</th>\n",
       "      <td>Secondary Schools</td>\n",
       "      <td>Crescent Girls</td>\n",
       "      <td>\"1.293318804, 103.8175441\"</td>\n",
       "      <td>QUEENSTOWN</td>\n",
       "    </tr>\n",
       "    <tr>\n",
       "      <th>4</th>\n",
       "      <td>Secondary Schools</td>\n",
       "      <td>Gan Eng Seng</td>\n",
       "      <td>\"1.289070478, 103.8237333\"</td>\n",
       "      <td>BUKIT MERAH</td>\n",
       "    </tr>\n",
       "    <tr>\n",
       "      <th>...</th>\n",
       "      <td>...</td>\n",
       "      <td>...</td>\n",
       "      <td>...</td>\n",
       "      <td>...</td>\n",
       "    </tr>\n",
       "    <tr>\n",
       "      <th>368</th>\n",
       "      <td>Primary Schools</td>\n",
       "      <td>Pioneer Primary</td>\n",
       "      <td>\"1.348720261, 103.6948675\"</td>\n",
       "      <td>JURONG WEST</td>\n",
       "    </tr>\n",
       "    <tr>\n",
       "      <th>369</th>\n",
       "      <td>Primary Schools</td>\n",
       "      <td>Qihua Primary</td>\n",
       "      <td>\"1.4420353, 103.7883394\"</td>\n",
       "      <td>WOODLANDS</td>\n",
       "    </tr>\n",
       "    <tr>\n",
       "      <th>370</th>\n",
       "      <td>Secondary Schools</td>\n",
       "      <td>Riverside Secondary</td>\n",
       "      <td>\"1.441077283, 103.7883131\"</td>\n",
       "      <td>WOODLANDS</td>\n",
       "    </tr>\n",
       "    <tr>\n",
       "      <th>371</th>\n",
       "      <td>Secondary Schools</td>\n",
       "      <td>Westwood Secondary</td>\n",
       "      <td>\"1.353736319, 103.7017718\"</td>\n",
       "      <td>JURONG WEST</td>\n",
       "    </tr>\n",
       "    <tr>\n",
       "      <th>372</th>\n",
       "      <td>Integrated Schools</td>\n",
       "      <td>School Of The Arts Singapore</td>\n",
       "      <td>\"1.299364137, 103.8486871\"</td>\n",
       "      <td>ROCHOR</td>\n",
       "    </tr>\n",
       "  </tbody>\n",
       "</table>\n",
       "<p>373 rows × 4 columns</p>\n",
       "</div>"
      ],
      "text/plain": [
       "               category                          name  \\\n",
       "0       Primary Schools             Alexandra Primary   \n",
       "1       Primary Schools          Gan Eng Seng Primary   \n",
       "2       Primary Schools               Zhangde Primary   \n",
       "3     Secondary Schools                Crescent Girls   \n",
       "4     Secondary Schools                  Gan Eng Seng   \n",
       "..                  ...                           ...   \n",
       "368     Primary Schools               Pioneer Primary   \n",
       "369     Primary Schools                 Qihua Primary   \n",
       "370   Secondary Schools           Riverside Secondary   \n",
       "371   Secondary Schools            Westwood Secondary   \n",
       "372  Integrated Schools  School Of The Arts Singapore   \n",
       "\n",
       "                               latLong planning_area  \n",
       "0           \"1.291298368, 103.8239405\"   BUKIT MERAH  \n",
       "1    \"1.2855944990000001, 103.8155471\"   BUKIT MERAH  \n",
       "2           \"1.284279434, 103.8261758\"   BUKIT MERAH  \n",
       "3           \"1.293318804, 103.8175441\"    QUEENSTOWN  \n",
       "4           \"1.289070478, 103.8237333\"   BUKIT MERAH  \n",
       "..                                 ...           ...  \n",
       "368         \"1.348720261, 103.6948675\"   JURONG WEST  \n",
       "369           \"1.4420353, 103.7883394\"     WOODLANDS  \n",
       "370         \"1.441077283, 103.7883131\"     WOODLANDS  \n",
       "371         \"1.353736319, 103.7017718\"   JURONG WEST  \n",
       "372         \"1.299364137, 103.8486871\"        ROCHOR  \n",
       "\n",
       "[373 rows x 4 columns]"
      ]
     },
     "execution_count": null,
     "metadata": {},
     "output_type": "execute_result"
    }
   ],
   "source": [
    "# generating unique lat long - planning area data that is used  for references\n",
    "dt_location = dt['telco_train'].groupby(['latlong','planning_area'], as_index=False)['msisdn'].nunique()\n",
    "latlong_location_str = [i.replace(\"\\\"\", \"\").split(\",\") for i in dt_location['latlong']]\n",
    "latlong_location_num = [(float(x), float(y)) for x, y in latlong_location_str]\n",
    "\n",
    "# adding a planning area column for the telco school data\n",
    "latlong_school_str = [i.replace(\"\\\"\", \"\").split(\", \") for i in dt['telco_schools']['latLong']]\n",
    "latlong_school_num = [(float(x), float(y)) for x, y in latlong_school_str]\n",
    "\n",
    "# ktree to find nearest users's planning area on telco train data \n",
    "tree = spatial.KDTree(latlong_location_num)\n",
    "query_data = tree.query(latlong_school_num)\n",
    "dt['telco_schools']['planning_area'] = [dt_location['planning_area'][i] for i in query_data[1]]\n",
    "\n",
    "dt['telco_schools']"
   ]
  },
  {
   "cell_type": "code",
   "execution_count": null,
   "metadata": {},
   "outputs": [],
   "source": []
  }
 ],
 "metadata": {
  "kernelspec": {
   "display_name": "Python [conda env:zig] *",
   "language": "python",
   "name": "conda-env-zig-py"
  }
 },
 "nbformat": 4,
 "nbformat_minor": 4
}
