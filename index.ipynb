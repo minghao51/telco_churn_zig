{
 "cells": [
  {
   "cell_type": "code",
   "execution_count": null,
   "metadata": {},
   "outputs": [],
   "source": [
    "#hide"
   ]
  },
  {
   "cell_type": "markdown",
   "metadata": {},
   "source": [
    "# Telco Churn (zig)\n",
    "\n",
    "> Churn model + model interpration"
   ]
  },
  {
   "cell_type": "markdown",
   "metadata": {},
   "source": [
    "## Install"
   ]
  },
  {
   "cell_type": "markdown",
   "metadata": {},
   "source": [
    "### windows\n",
    "To create a conda env based on the included conda file\n",
    "\n",
    "`conda env create --name <env name> -f conda-env.yml`\n",
    "\n",
    "### linux\n",
    "`pip install -r requirements.txt`\n",
    "\n",
    "in a virtuelenv\n"
   ]
  },
  {
   "cell_type": "markdown",
   "metadata": {},
   "source": [
    "## Notebooks & visual\n",
    "Also, order notebooks (raw exploration > features > model > visuals)"
   ]
  },
  {
   "cell_type": "markdown",
   "metadata": {},
   "source": [
    "1. **00_exploration** - Notebooks used for exploration on the raw data\n",
    "2. **01_features** - Notebook for generating features on the respective raw data\n",
    "3. **02A_user_profile** - Combining user profile data + modeling\n",
    "4. **02B_geolocation_profile** - Combining geo profile data\n",
    "5. **03A_user_profile_model** - Model for churn prediction\n",
    "6. **Geo_profile_map** (PowerBI) - Visualizing geo profile data\n",
    "\n"
   ]
  },
  {
   "cell_type": "code",
   "execution_count": null,
   "metadata": {},
   "outputs": [],
   "source": []
  }
 ],
 "metadata": {
  "kernelspec": {
   "display_name": "Python 3",
   "language": "python",
   "name": "python3"
  },
  "language_info": {
   "codemirror_mode": {
    "name": "ipython",
    "version": 3
   },
   "file_extension": ".py",
   "mimetype": "text/x-python",
   "name": "python",
   "nbconvert_exporter": "python",
   "pygments_lexer": "ipython3",
   "version": "3.8.6"
  }
 },
 "nbformat": 4,
 "nbformat_minor": 4
}
